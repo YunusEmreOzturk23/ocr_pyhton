{
 "cells": [
  {
   "cell_type": "code",
   "execution_count": 4,
   "id": "b52d7d39-03bf-4087-bccd-b0c039a2cbee",
   "metadata": {},
   "outputs": [
    {
     "data": {
      "text/plain": [
       "'temp/inverted.jpg'"
      ]
     },
     "metadata": {},
     "output_type": "display_data"
    }
   ],
   "source": [
    "import cv2\n",
    "from  matplotlib import pyplot as plt\n",
    "from  PIL import  Image\n",
    "import pytesseract\n",
    "from IPython.display import display\n",
    "image_file= \"data/page_01.jpg\"\n",
    "img=cv2.imread(image_file)\n",
    "#cv2.imshow(\"original image\", img)\n",
    "#cv2.waitKey(0)\n",
    "#display(image_file) #jupiter\n",
    "inverted_image =cv2.bitwise_not(img)\n",
    "cv2.imwrite(\"temp/inverted.jpg\",inverted_image)\n",
    "display(\"temp/inverted.jpg\")"
   ]
  },
  {
   "cell_type": "code",
   "execution_count": 6,
   "id": "06135cd5-e3a0-474d-82fa-04629edf6bcb",
   "metadata": {},
   "outputs": [],
   "source": [
    "def grayscale(img):\n",
    "    return cv2.cvtColor(image,cv2.COLOR_BGR2GRAY)\n",
    "    "
   ]
  },
  {
   "cell_type": "code",
   "execution_count": 8,
   "id": "09dd1434-ce49-469e-8593-2a64d2e85188",
   "metadata": {},
   "outputs": [
    {
     "ename": "NameError",
     "evalue": "name 'image' is not defined",
     "output_type": "error",
     "traceback": [
      "\u001b[1;31m---------------------------------------------------------------------------\u001b[0m",
      "\u001b[1;31mNameError\u001b[0m                                 Traceback (most recent call last)",
      "Cell \u001b[1;32mIn[8], line 1\u001b[0m\n\u001b[1;32m----> 1\u001b[0m gray_image\u001b[38;5;241m=\u001b[39m\u001b[43mgrayscale\u001b[49m\u001b[43m(\u001b[49m\u001b[43mimg\u001b[49m\u001b[43m)\u001b[49m\n\u001b[0;32m      2\u001b[0m cv2\u001b[38;5;241m.\u001b[39mimwrite(\u001b[38;5;124m\"\u001b[39m\u001b[38;5;124mtemp/gray.jpg\u001b[39m\u001b[38;5;124m\"\u001b[39m,gray_image)\n",
      "Cell \u001b[1;32mIn[6], line 2\u001b[0m, in \u001b[0;36mgrayscale\u001b[1;34m(img)\u001b[0m\n\u001b[0;32m      1\u001b[0m \u001b[38;5;28;01mdef\u001b[39;00m \u001b[38;5;21mgrayscale\u001b[39m(img):\n\u001b[1;32m----> 2\u001b[0m     \u001b[38;5;28;01mreturn\u001b[39;00m cv2\u001b[38;5;241m.\u001b[39mcvtColor(\u001b[43mimage\u001b[49m,cv2\u001b[38;5;241m.\u001b[39mCOLOR_BGR2GRAY)\n",
      "\u001b[1;31mNameError\u001b[0m: name 'image' is not defined"
     ]
    }
   ],
   "source": [
    "gray_image=grayscale(img)\n",
    "cv2.imwrite(\"temp/gray.jpg\",gray_image)"
   ]
  },
  {
   "cell_type": "code",
   "execution_count": null,
   "id": "ffb21f54-91d4-4446-8fae-3d473587060b",
   "metadata": {},
   "outputs": [],
   "source": []
  }
 ],
 "metadata": {
  "kernelspec": {
   "display_name": "Python 3 (ipykernel)",
   "language": "python",
   "name": "python3"
  },
  "language_info": {
   "codemirror_mode": {
    "name": "ipython",
    "version": 3
   },
   "file_extension": ".py",
   "mimetype": "text/x-python",
   "name": "python",
   "nbconvert_exporter": "python",
   "pygments_lexer": "ipython3",
   "version": "3.12.3"
  }
 },
 "nbformat": 4,
 "nbformat_minor": 5
}
